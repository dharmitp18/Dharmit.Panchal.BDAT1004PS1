{
 "cells": [
  {
   "cell_type": "markdown",
   "id": "ce8dacb0",
   "metadata": {},
   "source": [
    "<h1><B><U><center><font color='#004b87'>PROBLEM SET- 1<font><br>\n",
    "Student id:-200491728<br>\n",
    "BDAT 1004-Data Programming(2)<br>\n",
    "    "
   ]
  },
  {
   "cell_type": "markdown",
   "id": "0077235a",
   "metadata": {},
   "source": [
    "<B>Question 1 C#</B><br>\n",
    "What data type is each of the following?<br>\n",
    "\n",
    "5      // Integer (whole number)<br>\n",
    "5.0   // Decimal (. point value)<br>\n",
    "5 > 1   // Relation operater Output- Boolean (true)<br>\n",
    "'5'   // String <br>\n",
    "5 * 2   // Arithmatic operator Output- Integer<br>\n",
    "'5' * 2   // Integer '5'  decimal value=53 *2=106<br>\n",
    "'5' + '2'   // Output Integer<br>\n",
    "5 / 2    // Arithmatic operator  Output- (2) Integer<br>\n",
    "5%2    //  Remainder operator Output- (1)Integer  <br>\n",
    "{5, 2, 1}   //Numbers list<br>\n",
    "5== 3    // equal-to operator Output- boolean(False)<br>\n",
    "Pi (the number) // Math operator<br>\n",
    "\n"
   ]
  },
  {
   "cell_type": "markdown",
   "id": "d8b382fd",
   "metadata": {},
   "source": [
    "<b>Question 2 C#<b><br>\n",
    "Write (and evaluate) C# expressions that answer these questions:<br>\n",
    "\n",
    "a. How many letters are there in 'Supercalifragilisticexpialidocious'?<br>\n",
    "b. Does 'Supercalifragilisticexpialidocious' contain 'ice' as a substring?<br>\n",
    "c. Which of the following words is the longest:\n",
    "Supercalifragilisticexpialidocious, Honorificabilitudinitatibus, or\n",
    "Bababadalgharaghtakamminarronnkonn?<br>\n",
    "\n",
    "d. Which composer comes first in the dictionary: 'Berlioz', 'Borodin', 'Brian',\n",
    "'Bartok', 'Bellini', 'Buxtehude', 'Bernstein'. Which one comes last?<br>\n",
    "    Reference Q(c):-https://docs.microsoft.com/en-us/dotnet/api/system.string.split?view=net-5.0<br>"
   ]
  },
  {
   "cell_type": "markdown",
   "id": "3f935789",
   "metadata": {},
   "source": [
    "![](2a.jpg)\n",
    "![](2b.jpg)\n"
   ]
  },
  {
   "cell_type": "markdown",
   "id": "37b13d44",
   "metadata": {},
   "source": [
    "<b>Question 3 C#</b><br>\n",
    "Implement function triangleArea(a,b,c) that takes as input the lengths of the 3<br>\n",
    "sides of a triangle and returns the area of the triangle. By Heron's formula, the area\n",
    "of a triangle with side lengths a, b, and c is\n",
    "s(s - a)(s -b)(s -c), where\n",
    "s = (a + b + c) /2.<br>\n",
    "\n"
   ]
  },
  {
   "cell_type": "markdown",
   "id": "5973accb",
   "metadata": {},
   "source": [
    "![](q3.jpg)"
   ]
  },
  {
   "cell_type": "markdown",
   "id": "79960534",
   "metadata": {},
   "source": [
    "<B>Question 4 C#</B><br>\n",
    "Write a program in C# Sharp to separate odd and even integers in separate arrays.<br>\n",
    "Go to the editor<br>\n",
    "Test Data :<br>\n",
    "Input the number of elements to be stored in the array :5<br>\n",
    "Input 5 elements in the array :<br>\n",
    "\n"
   ]
  },
  {
   "cell_type": "code",
   "execution_count": null,
   "id": "2f2fcbdf",
   "metadata": {},
   "outputs": [],
   "source": [
    "using System;\n",
    "\n",
    "namespace Question_4\n",
    "{\n",
    "    class Program\n",
    "    {\n",
    "        static void Main(string[] args)\n",
    "        {\n",
    "            int[] ar_1 = new int[20];\n",
    "            int num;\n",
    "            Console.WriteLine(\"Input the number of elements to be stored in the array:-\");\n",
    "            num = Convert.ToInt32(Console.ReadLine());\n",
    "            int i, j = 0, k = 0;\n",
    "            Console.Write(\"Input {0} elements in the array\", num);\n",
    "            for (i = 0; i < num; i++)  \n",
    "            {\n",
    "                Console.Write(\"Element -{0} :\", i);\n",
    "                ar_1[i] = Convert.ToInt32(Console.ReadLine()); //Input element loop\n",
    "            }\n",
    "            int[] ar_2 = new int[20];\n",
    "            int[] ar_3 = new int[20];\n",
    "            for (i = 0; i < num; i++)\n",
    "            {\n",
    "                if (ar_1[i] % 2 == 0)\n",
    "                {\n",
    "                    ar_2[j] = ar_1[i];\n",
    "                    j++;\n",
    "                }\n",
    "                else\n",
    "                {\n",
    "                    ar_3[k] = ar_1[i];\n",
    "                    k++;\n",
    "                }\n",
    "            }\n",
    "            Console.Write(\"The Even elements are: \\n\");\n",
    "            for (i = 0; i < j; i++)\n",
    "            {\n",
    "                Console.Write(\"{0}\\n\", ar_2[i]);\n",
    "            }\n",
    "            Console.Write(\"\\n The Odd elements are: \\n\");\n",
    "\n",
    "            for (i = 0; i < k; i++)\n",
    "            {\n",
    "                Console.Write(\"{0}\\n\", ar_3[i]);\n",
    "            }\n",
    "\n",
    "            Console.Write(\"\\n\\n\");\n",
    "        }\n",
    "    }\n",
    "}\n"
   ]
  },
  {
   "cell_type": "markdown",
   "id": "b9811101",
   "metadata": {},
   "source": [
    "![](qq4.jpg)"
   ]
  },
  {
   "cell_type": "markdown",
   "id": "88637b55",
   "metadata": {},
   "source": [
    "<b>Question 5 C#</b><br>\n",
    "a. Write a function inside(x,y,x1,y1,x2,y2) that returns True or False depending on whether the point (x,y) lies in the rectangle with lower left corner (x1,y1) and upper right corner (x2,y2).<br>\n",
    " \n",
    "b. Use function inside() from part a. to write an expression that tests whether the point (1,1) lies in both of the following rectangles: one with lower left corner (0.3, 0.5) and upper right corner (1.1, 0.7) and the other with lower left corner (0.5, 0.2) and upper right corner (1.1, 2)."
   ]
  },
  {
   "cell_type": "code",
   "execution_count": null,
   "id": "0e2aff5f",
   "metadata": {},
   "outputs": [],
   "source": [
    "//(a)\n",
    "static bool inside(int x,int y,int x1,int y1,int x2,int y2)\n",
    "        {\n",
    "            if (x > x1 && x < x2 && y > y1 && y < y2)\n",
    "                return true;\n",
    "            return false;\n",
    "        }"
   ]
  },
  {
   "cell_type": "markdown",
   "id": "9600bdb2",
   "metadata": {},
   "source": [
    "![](5a.jpg)"
   ]
  },
  {
   "cell_type": "code",
   "execution_count": null,
   "id": "d23fc610",
   "metadata": {},
   "outputs": [],
   "source": [
    "//(b)\n",
    "static bool inside(int x,int y,double x1,double y1,double x2,double y2,double x3,double y3,double x4,double y4)\n",
    "        {\n",
    "            if (x > x1 && x < x2 && y > y1 && y < y2 && x>x3 && x<x3 && y>y3 && y<y3 )\n",
    "                return true;\n",
    "            return false;\n",
    "        }"
   ]
  },
  {
   "cell_type": "markdown",
   "id": "6d0bc166",
   "metadata": {},
   "source": [
    "![](5bb.jpg)"
   ]
  },
  {
   "cell_type": "markdown",
   "id": "122e35e6",
   "metadata": {},
   "source": [
    "<b>Question 6 Python</b><br>\n",
    " You can turn a word into pig-Latin using the following two rules (simplified):<br>\n",
    "• If the word starts with a consonant, move that letter to the end and append 'ay'. For example, 'happy' becomes 'appyhay' and 'pencil' becomes 'encilpay'.<br>\n",
    "• If the word starts with a vowel, simply append 'way' to the end of the word. For example, 'enter' becomes 'enterway' and 'other' becomes 'otherway' . For our purposes, there are 5 vowels: a, e, i, o, u (so we count y as a consonant).<br>\n",
    "Write a function pig() that takes a word (i.e., a string) as input and returns its pig-Latin form. Your function should still work if the input word contains upper case characters. Your output should always be lower case however.<br>\n"
   ]
  },
  {
   "cell_type": "code",
   "execution_count": 48,
   "id": "3c6ca76e",
   "metadata": {},
   "outputs": [],
   "source": [
    "def pig(text):\n",
    "        vowels = \"aeiou\"\n",
    "        text = list(text.lower())\n",
    "\n",
    "        if text[0] in vowels:\n",
    "                text+=['w','a','y']\n",
    "\n",
    "        else:\n",
    "                text = text[1:] + [text[0]] + ['a','y']\n",
    "\n",
    "\n",
    "        print(\"\".join(text))\n"
   ]
  },
  {
   "cell_type": "code",
   "execution_count": null,
   "id": "779d4f03",
   "metadata": {},
   "outputs": [],
   "source": [
    "pig('happy')"
   ]
  },
  {
   "cell_type": "markdown",
   "id": "01135f1f",
   "metadata": {},
   "source": [
    "<b>Question 7 Python</b><br>\n",
    "File bloodtype1.txt records blood-types of patients (A, B, AB, O or OO) at a clinic.<br>\n",
    "Write a function bldcount() that reads the file with name name and reports (i.e.,<br>\n",
    "\n"
   ]
  },
  {
   "cell_type": "code",
   "execution_count": 37,
   "id": "2d04f359",
   "metadata": {},
   "outputs": [],
   "source": [
    "def bldcount(f_name):\n",
    "    f=open(f_name,'r')\n",
    "    data=f.read()\n",
    "    \n",
    "    data=data.split()\n",
    "    bloodtypes= ['A','B','AB','O','OO']\n",
    "    \n",
    "    for i in bloodtypes:\n",
    "        if data.count(i)==0:\n",
    "            print(\"There are no patients of blood type\",i+\".\")\n",
    "        elif data.count(i)==1:\n",
    "            print(\"There is one patient of blood type\",i+\".\")\n",
    "        else:\n",
    "            print(\"There are\",data.count(i),\"patients of blood type\",i+\".\")\n",
    "            \n",
    "            \n",
    "        "
   ]
  },
  {
   "cell_type": "code",
   "execution_count": 38,
   "id": "c3112b6b",
   "metadata": {},
   "outputs": [
    {
     "name": "stdout",
     "output_type": "stream",
     "text": [
      "There are 15 patients of blood type A.\n",
      "There is one patient of blood type B.\n",
      "There are 13 patients of blood type AB.\n",
      "There are 15 patients of blood type O.\n",
      "There are no patients of blood type OO.\n"
     ]
    }
   ],
   "source": [
    "bldcount(\"bloodtype1.txt\")"
   ]
  },
  {
   "cell_type": "markdown",
   "id": "01dfa0c0",
   "metadata": {},
   "source": [
    "<b>Question 8 Python</b><br>\n",
    "Write a function curconv() that takes as input:<br>\n",
    "1. a currency represented using a string (e.g., 'JPY' for the Japanese Yen or\n",
    "'EUR' for the Euro)<br>\n",
    "2. an amount\n",
    "and then converts and returns the amount in US dollars.<br>"
   ]
  },
  {
   "cell_type": "code",
   "execution_count": 41,
   "id": "e3631b20",
   "metadata": {},
   "outputs": [],
   "source": [
    "def get_currency_rates():\n",
    "        currency_rates = {}\n",
    "        with open(\"currencies.txt\") as f:\n",
    "                lines = f.readlines()\n",
    "\n",
    "                for line in lines:\n",
    "                        current_currency = line.strip().split()\n",
    "                        currency_rates[current_currency[0]] = float(current_currency[1])\n",
    "        \n",
    "        return currency_rates\n",
    "\n",
    "\n",
    "\n",
    "def curconv(source_currency, source_currency_amount):\n",
    "        currency_rates = get_currency_rates()\n",
    "        target_currency_value = source_currency_amount * currency_rates[source_currency]\n",
    "        print(target_currency_value)\n",
    "    "
   ]
  },
  {
   "cell_type": "code",
   "execution_count": 42,
   "id": "832cfbee",
   "metadata": {},
   "outputs": [
    {
     "name": "stdout",
     "output_type": "stream",
     "text": [
      "122.96544\n"
     ]
    }
   ],
   "source": [
    "curconv('EUR', 100)"
   ]
  },
  {
   "cell_type": "markdown",
   "id": "6f4c53f7",
   "metadata": {},
   "source": [
    "<b>Question 9 Python</b><br>\n",
    "Each of the following will cause an exception (an error). Identify what type of exception each will cause.<br>\n",
    "(1)Trying to add incompatible variables, as in adding 6 + ‘a’<br>\n",
    "(2)Referring to the 12th item of a list that has only 10 items<br>\n",
    "(3)Using a value that is out of range for a function’s input, such as calling math.sqrt( 1.0)<br>\n",
    "(4)Using an undeclared variable, such as p rint(x)\n",
    "when x has not been defined\n",
    "(5)Trying to open a file that does not exist, such as mistyping the file name or looking in the wrong directory.<> "
   ]
  },
  {
   "cell_type": "code",
   "execution_count": 1,
   "id": "f05fecea",
   "metadata": {},
   "outputs": [
    {
     "ename": "TypeError",
     "evalue": "unsupported operand type(s) for +: 'int' and 'str'",
     "output_type": "error",
     "traceback": [
      "\u001b[1;31m---------------------------------------------------------------------------\u001b[0m",
      "\u001b[1;31mTypeError\u001b[0m                                 Traceback (most recent call last)",
      "\u001b[1;32mC:\\conda_tmp/ipykernel_4148/55046823.py\u001b[0m in \u001b[0;36m<module>\u001b[1;34m\u001b[0m\n\u001b[1;32m----> 1\u001b[1;33m \u001b[1;36m6\u001b[0m \u001b[1;33m+\u001b[0m \u001b[1;34m'a'\u001b[0m\u001b[1;33m\u001b[0m\u001b[1;33m\u001b[0m\u001b[0m\n\u001b[0m",
      "\u001b[1;31mTypeError\u001b[0m: unsupported operand type(s) for +: 'int' and 'str'"
     ]
    }
   ],
   "source": [
    "#(1)\n",
    "6 + 'a'\n",
    "#TypeError: unsupported operand type(s) for +: 'int' and 'str'"
   ]
  },
  {
   "cell_type": "code",
   "execution_count": 2,
   "id": "202a52e3",
   "metadata": {},
   "outputs": [
    {
     "ename": "IndexError",
     "evalue": "list index out of range",
     "output_type": "error",
     "traceback": [
      "\u001b[1;31m---------------------------------------------------------------------------\u001b[0m",
      "\u001b[1;31mIndexError\u001b[0m                                Traceback (most recent call last)",
      "\u001b[1;32mC:\\conda_tmp/ipykernel_4148/3639662779.py\u001b[0m in \u001b[0;36m<module>\u001b[1;34m\u001b[0m\n\u001b[0;32m      1\u001b[0m \u001b[1;31m#(2)\u001b[0m\u001b[1;33m\u001b[0m\u001b[1;33m\u001b[0m\u001b[0m\n\u001b[0;32m      2\u001b[0m \u001b[0mlist\u001b[0m\u001b[1;33m=\u001b[0m\u001b[1;33m[\u001b[0m\u001b[1;36m23\u001b[0m\u001b[1;33m,\u001b[0m\u001b[1;36m34\u001b[0m\u001b[1;33m,\u001b[0m\u001b[1;36m45\u001b[0m\u001b[1;33m,\u001b[0m\u001b[1;36m65\u001b[0m\u001b[1;33m,\u001b[0m\u001b[1;36m43\u001b[0m\u001b[1;33m,\u001b[0m\u001b[1;36m45\u001b[0m\u001b[1;33m,\u001b[0m\u001b[1;36m65\u001b[0m\u001b[1;33m,\u001b[0m\u001b[1;36m67\u001b[0m\u001b[1;33m,\u001b[0m\u001b[1;36m65\u001b[0m\u001b[1;33m,\u001b[0m\u001b[1;36m87\u001b[0m\u001b[1;33m]\u001b[0m\u001b[1;33m\u001b[0m\u001b[1;33m\u001b[0m\u001b[0m\n\u001b[1;32m----> 3\u001b[1;33m \u001b[0mprint\u001b[0m\u001b[1;33m(\u001b[0m\u001b[0mlist\u001b[0m\u001b[1;33m[\u001b[0m\u001b[1;36m12\u001b[0m\u001b[1;33m]\u001b[0m\u001b[1;33m)\u001b[0m\u001b[1;33m\u001b[0m\u001b[1;33m\u001b[0m\u001b[0m\n\u001b[0m",
      "\u001b[1;31mIndexError\u001b[0m: list index out of range"
     ]
    }
   ],
   "source": [
    "#(2)\n",
    "list=[23,34,45,65,43,45,65,67,65,87]\n",
    "print(list[12])\n",
    "#IndexError: list index out of range"
   ]
  },
  {
   "cell_type": "code",
   "execution_count": 11,
   "id": "035845c5",
   "metadata": {
    "scrolled": true
   },
   "outputs": [
    {
     "ename": "ValueError",
     "evalue": "math domain error",
     "output_type": "error",
     "traceback": [
      "\u001b[1;31m---------------------------------------------------------------------------\u001b[0m",
      "\u001b[1;31mValueError\u001b[0m                                Traceback (most recent call last)",
      "\u001b[1;32mC:\\conda_tmp/ipykernel_21244/2850650543.py\u001b[0m in \u001b[0;36m<module>\u001b[1;34m\u001b[0m\n\u001b[0;32m      1\u001b[0m \u001b[1;32mimport\u001b[0m \u001b[0mmath\u001b[0m\u001b[1;33m\u001b[0m\u001b[1;33m\u001b[0m\u001b[0m\n\u001b[0;32m      2\u001b[0m \u001b[0mmath\u001b[0m\u001b[1;33m.\u001b[0m\u001b[0msqrt\u001b[0m\u001b[1;33m(\u001b[0m\u001b[1;36m49\u001b[0m\u001b[1;33m)\u001b[0m\u001b[1;33m\u001b[0m\u001b[1;33m\u001b[0m\u001b[0m\n\u001b[1;32m----> 3\u001b[1;33m \u001b[0mmath\u001b[0m\u001b[1;33m.\u001b[0m\u001b[0msqrt\u001b[0m\u001b[1;33m(\u001b[0m\u001b[1;33m-\u001b[0m\u001b[1;36m2.45\u001b[0m\u001b[1;33m)\u001b[0m\u001b[1;33m\u001b[0m\u001b[1;33m\u001b[0m\u001b[0m\n\u001b[0m",
      "\u001b[1;31mValueError\u001b[0m: math domain error"
     ]
    }
   ],
   "source": [
    "#(3)\n",
    "import math\n",
    "math.sqrt(49)\n",
    "math.sqrt(-2.45)\n",
    "#ValueError: math domain error"
   ]
  },
  {
   "cell_type": "code",
   "execution_count": 12,
   "id": "118227a4",
   "metadata": {},
   "outputs": [
    {
     "ename": "NameError",
     "evalue": "name 'data' is not defined",
     "output_type": "error",
     "traceback": [
      "\u001b[1;31m---------------------------------------------------------------------------\u001b[0m",
      "\u001b[1;31mNameError\u001b[0m                                 Traceback (most recent call last)",
      "\u001b[1;32mC:\\conda_tmp/ipykernel_21244/927109222.py\u001b[0m in \u001b[0;36m<module>\u001b[1;34m\u001b[0m\n\u001b[1;32m----> 1\u001b[1;33m \u001b[0mprint\u001b[0m\u001b[1;33m(\u001b[0m\u001b[0mdata\u001b[0m\u001b[1;33m)\u001b[0m\u001b[1;33m\u001b[0m\u001b[1;33m\u001b[0m\u001b[0m\n\u001b[0m",
      "\u001b[1;31mNameError\u001b[0m: name 'data' is not defined"
     ]
    }
   ],
   "source": [
    "#(4)\n",
    "print(data)\n",
    "#NameError: name 'data' is not defined"
   ]
  },
  {
   "cell_type": "code",
   "execution_count": 13,
   "id": "4d3a754b",
   "metadata": {
    "scrolled": true
   },
   "outputs": [
    {
     "ename": "FileNotFoundError",
     "evalue": "[Errno 2] No such file or directory: 'demo.txt'",
     "output_type": "error",
     "traceback": [
      "\u001b[1;31m---------------------------------------------------------------------------\u001b[0m",
      "\u001b[1;31mFileNotFoundError\u001b[0m                         Traceback (most recent call last)",
      "\u001b[1;32mC:\\conda_tmp/ipykernel_21244/2866178066.py\u001b[0m in \u001b[0;36m<module>\u001b[1;34m\u001b[0m\n\u001b[1;32m----> 1\u001b[1;33m \u001b[0mf\u001b[0m \u001b[1;33m=\u001b[0m \u001b[0mopen\u001b[0m\u001b[1;33m(\u001b[0m\u001b[1;34m\"demo.txt\"\u001b[0m\u001b[1;33m,\u001b[0m \u001b[1;34m\"r\"\u001b[0m\u001b[1;33m)\u001b[0m\u001b[1;33m\u001b[0m\u001b[1;33m\u001b[0m\u001b[0m\n\u001b[0m\u001b[0;32m      2\u001b[0m \u001b[0mprint\u001b[0m\u001b[1;33m(\u001b[0m\u001b[0mf\u001b[0m\u001b[1;33m.\u001b[0m\u001b[0mread\u001b[0m\u001b[1;33m(\u001b[0m\u001b[1;33m)\u001b[0m\u001b[1;33m)\u001b[0m\u001b[1;33m\u001b[0m\u001b[1;33m\u001b[0m\u001b[0m\n",
      "\u001b[1;31mFileNotFoundError\u001b[0m: [Errno 2] No such file or directory: 'demo.txt'"
     ]
    }
   ],
   "source": [
    "#(5) \n",
    "f = open(\"demo.txt\", \"r\")\n",
    "print(f.read())\n",
    "#FileNotFoundError: [Errno 2] No such file or directory: 'demo.txt'"
   ]
  },
  {
   "cell_type": "markdown",
   "id": "2d8a2095",
   "metadata": {},
   "source": [
    "<b>Question 10 Python</b><br>\n",
    "Encryption is the process of hiding the meaning of a text by substituting letters in the message with other letters, according to some system. If the process is successful, no one but the intended recipient can understand the encrypted message. <br>Cryptanalysis refers to attempts to undo the encryption, even if some details of the encryption are unknown (for example, if an encrypted message has been intercepted). <br>The first step of cryptanalysis is often to build up a table of letter frequencies in the encrypted text.<br> Assume that the string letters is already defined as 'abcdefghijklmnopqrstuvwxyz'.<br> Write a function called frequencies() that takes a string as its only parameter, and returns a list of integers, showing the number of times each character appears in the text. Your function may ignore any characters that are not in letters."
   ]
  },
  {
   "cell_type": "code",
   "execution_count": 32,
   "id": "9885a5db",
   "metadata": {},
   "outputs": [],
   "source": [
    "def frequencies(text):\n",
    "        f = {}\n",
    "        frequency_list = []\n",
    "        letters = \"abcdefghijklmnopqrstuvwxyz\"\n",
    "        for ch in text:\n",
    "                if ch in letters:\n",
    "                        if ch in f:\n",
    "                                f[ch]+=1\n",
    "                        else:\n",
    "                                f[ch] = 1\n",
    "\n",
    "        for letter in letters:\n",
    "                if letter in f:\n",
    "                        frequency_list.append(f[letter])\n",
    "                else:\n",
    "                        frequency_list.append(0)\n",
    "\n",
    "        \n",
    "        print(frequency_list)"
   ]
  },
  {
   "cell_type": "code",
   "execution_count": 33,
   "id": "258cb7fb",
   "metadata": {},
   "outputs": [
    {
     "name": "stdout",
     "output_type": "stream",
     "text": [
      "[1, 1, 1, 3, 5, 1, 1, 2, 1, 0, 1, 0, 1, 2, 4, 0, 1, 2, 0, 2, 1, 0, 1, 1, 0, 0]\n"
     ]
    }
   ],
   "source": [
    "frequencies('The quick red fox got bored and went home.')"
   ]
  }
 ],
 "metadata": {
  "kernelspec": {
   "display_name": "Python 3 (ipykernel)",
   "language": "python",
   "name": "python3"
  },
  "language_info": {
   "codemirror_mode": {
    "name": "ipython",
    "version": 3
   },
   "file_extension": ".py",
   "mimetype": "text/x-python",
   "name": "python",
   "nbconvert_exporter": "python",
   "pygments_lexer": "ipython3",
   "version": "3.9.7"
  }
 },
 "nbformat": 4,
 "nbformat_minor": 5
}
